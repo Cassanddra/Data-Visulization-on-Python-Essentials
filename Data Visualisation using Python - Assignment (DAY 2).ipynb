{
 "cells": [
  {
   "cell_type": "markdown",
   "metadata": {},
   "source": [
    "# 1"
   ]
  },
  {
   "cell_type": "code",
   "execution_count": 3,
   "metadata": {},
   "outputs": [],
   "source": [
    "import numpy as np\n",
    "import pandas as pd\n",
    "import seaborn as sns\n",
    "from numpy.random import randn, randint, uniform, sample\n",
    "\n",
    "\n",
    "import matplotlib as mpl\n",
    "import matplotlib.pyplot as plt \n",
    "%matplotlib inline"
   ]
  },
  {
   "cell_type": "code",
   "execution_count": 4,
   "metadata": {},
   "outputs": [
    {
     "data": {
      "text/html": [
       "<div>\n",
       "<style scoped>\n",
       "    .dataframe tbody tr th:only-of-type {\n",
       "        vertical-align: middle;\n",
       "    }\n",
       "\n",
       "    .dataframe tbody tr th {\n",
       "        vertical-align: top;\n",
       "    }\n",
       "\n",
       "    .dataframe thead th {\n",
       "        text-align: right;\n",
       "    }\n",
       "</style>\n",
       "<table border=\"1\" class=\"dataframe\">\n",
       "  <thead>\n",
       "    <tr style=\"text-align: right;\">\n",
       "      <th></th>\n",
       "      <th>a</th>\n",
       "      <th>b</th>\n",
       "      <th>c</th>\n",
       "      <th>d</th>\n",
       "    </tr>\n",
       "  </thead>\n",
       "  <tbody>\n",
       "    <tr>\n",
       "      <th>0</th>\n",
       "      <td>-0.784289</td>\n",
       "      <td>-0.417765</td>\n",
       "      <td>-0.627568</td>\n",
       "      <td>-2.121837</td>\n",
       "    </tr>\n",
       "    <tr>\n",
       "      <th>1</th>\n",
       "      <td>-0.742005</td>\n",
       "      <td>-0.987603</td>\n",
       "      <td>1.323564</td>\n",
       "      <td>1.940499</td>\n",
       "    </tr>\n",
       "    <tr>\n",
       "      <th>2</th>\n",
       "      <td>-1.118518</td>\n",
       "      <td>-0.439029</td>\n",
       "      <td>0.321466</td>\n",
       "      <td>1.378842</td>\n",
       "    </tr>\n",
       "    <tr>\n",
       "      <th>3</th>\n",
       "      <td>-0.446574</td>\n",
       "      <td>1.953800</td>\n",
       "      <td>-0.973196</td>\n",
       "      <td>-1.276721</td>\n",
       "    </tr>\n",
       "    <tr>\n",
       "      <th>4</th>\n",
       "      <td>0.433989</td>\n",
       "      <td>-1.526667</td>\n",
       "      <td>-0.177771</td>\n",
       "      <td>0.260359</td>\n",
       "    </tr>\n",
       "    <tr>\n",
       "      <th>5</th>\n",
       "      <td>-1.441894</td>\n",
       "      <td>-0.746584</td>\n",
       "      <td>1.571069</td>\n",
       "      <td>0.115256</td>\n",
       "    </tr>\n",
       "    <tr>\n",
       "      <th>6</th>\n",
       "      <td>0.348602</td>\n",
       "      <td>-0.261163</td>\n",
       "      <td>0.552939</td>\n",
       "      <td>0.312466</td>\n",
       "    </tr>\n",
       "    <tr>\n",
       "      <th>7</th>\n",
       "      <td>-1.133238</td>\n",
       "      <td>0.134757</td>\n",
       "      <td>-0.144781</td>\n",
       "      <td>-1.238304</td>\n",
       "    </tr>\n",
       "    <tr>\n",
       "      <th>8</th>\n",
       "      <td>-0.293687</td>\n",
       "      <td>1.158916</td>\n",
       "      <td>0.468266</td>\n",
       "      <td>-0.038954</td>\n",
       "    </tr>\n",
       "    <tr>\n",
       "      <th>9</th>\n",
       "      <td>-1.080649</td>\n",
       "      <td>-0.045963</td>\n",
       "      <td>-1.283819</td>\n",
       "      <td>1.127963</td>\n",
       "    </tr>\n",
       "  </tbody>\n",
       "</table>\n",
       "</div>"
      ],
      "text/plain": [
       "          a         b         c         d\n",
       "0 -0.784289 -0.417765 -0.627568 -2.121837\n",
       "1 -0.742005 -0.987603  1.323564  1.940499\n",
       "2 -1.118518 -0.439029  0.321466  1.378842\n",
       "3 -0.446574  1.953800 -0.973196 -1.276721\n",
       "4  0.433989 -1.526667 -0.177771  0.260359\n",
       "5 -1.441894 -0.746584  1.571069  0.115256\n",
       "6  0.348602 -0.261163  0.552939  0.312466\n",
       "7 -1.133238  0.134757 -0.144781 -1.238304\n",
       "8 -0.293687  1.158916  0.468266 -0.038954\n",
       "9 -1.080649 -0.045963 -1.283819  1.127963"
      ]
     },
     "execution_count": 4,
     "metadata": {},
     "output_type": "execute_result"
    }
   ],
   "source": [
    "df = pd.DataFrame(randn(10,4), columns = ['a','b','c','d'])\n",
    "df"
   ]
  },
  {
   "cell_type": "code",
   "execution_count": 15,
   "metadata": {},
   "outputs": [
    {
     "data": {
      "image/png": "[encoded data removed]",
      "text/plain": [
       "<Figure size 432x288 with 1 Axes>"
      ]
     },
     "metadata": {
      "needs_background": "light"
     },
     "output_type": "display_data"
    }
   ],
   "source": [
    "df.plot.bar()\n",
    "plt.title('Bar Plot')\n",
    "plt.ylabel('y axis')\n",
    "plt.xlabel('x axis')\n",
    "plt.legend()\n",
    "plt.show()\n"
   ]
  },
  {
   "cell_type": "code",
   "execution_count": null,
   "metadata": {},
   "outputs": [],
   "source": []
  },
  {
   "cell_type": "code",
   "execution_count": null,
   "metadata": {},
   "outputs": [],
   "source": []
  }
 ],
 "metadata": {
  "kernelspec": {
   "display_name": "Python 3",
   "language": "python",
   "name": "python3"
  },
  "language_info": {
   "codemirror_mode": {
    "name": "ipython",
    "version": 3
   },
   "file_extension": ".py",
   "mimetype": "text/x-python",
   "name": "python",
   "nbconvert_exporter": "python",
   "pygments_lexer": "ipython3",
   "version": "3.8.5"
  }
 },
 "nbformat": 4,
 "nbformat_minor": 4
}
